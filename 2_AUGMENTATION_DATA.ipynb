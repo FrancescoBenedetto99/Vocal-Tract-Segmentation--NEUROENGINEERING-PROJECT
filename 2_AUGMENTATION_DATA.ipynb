{
 "cells": [
  {
   "cell_type": "markdown",
   "metadata": {
    "id": "fEc3Qe_Dki5I"
   },
   "source": [
    "# Connect to google drive"
   ]
  },
  {
   "cell_type": "code",
   "execution_count": 1,
   "metadata": {
    "colab": {
     "base_uri": "https://localhost:8080/"
    },
    "executionInfo": {
     "elapsed": 17309,
     "status": "ok",
     "timestamp": 1701441565281,
     "user": {
      "displayName": "fEDE",
      "userId": "04787154995857483550"
     },
     "user_tz": -60
    },
    "id": "d7Rw8uq3j5tu",
    "outputId": "3169004f-15bc-4aa6-e6a1-8e3b497ae251"
   },
   "outputs": [
    {
     "name": "stdout",
     "output_type": "stream",
     "text": [
      "Mounted at /content/drive\n"
     ]
    }
   ],
   "source": [
    "from google.colab import drive\n",
    "drive.mount('/content/drive')"
   ]
  },
  {
   "cell_type": "markdown",
   "metadata": {
    "id": "9GEs-jUx3BO2"
   },
   "source": [
    "# Dependencies"
   ]
  },
  {
   "cell_type": "code",
   "execution_count": 2,
   "metadata": {
    "colab": {
     "base_uri": "https://localhost:8080/"
    },
    "executionInfo": {
     "elapsed": 16450,
     "status": "ok",
     "timestamp": 1701441591704,
     "user": {
      "displayName": "fEDE",
      "userId": "04787154995857483550"
     },
     "user_tz": -60
    },
    "id": "X8TSMfTP2-Bm",
    "outputId": "59a28208-003b-4250-ff63-b17c38afd525"
   },
   "outputs": [
    {
     "name": "stdout",
     "output_type": "stream",
     "text": [
      "  Preparing metadata (setup.py) ... \u001b[?25l\u001b[?25hdone\n",
      "\u001b[2K     \u001b[90m━━━━━━━━━━━━━━━━━━━━━━━━━━━━━━━━━━━━━━━━\u001b[0m \u001b[32m52.7/52.7 MB\u001b[0m \u001b[31m19.4 MB/s\u001b[0m eta \u001b[36m0:00:00\u001b[0m\n",
      "\u001b[?25h  Building wheel for med_dataloader (setup.py) ... \u001b[?25l\u001b[?25hdone\n"
     ]
    }
   ],
   "source": [
    "#Dependencies to load the dataset in tf.data format\n",
    "!pip install med_dataloader==0.1.12 -q"
   ]
  },
  {
   "cell_type": "code",
   "execution_count": 3,
   "metadata": {
    "colab": {
     "base_uri": "https://localhost:8080/"
    },
    "executionInfo": {
     "elapsed": 3957,
     "status": "ok",
     "timestamp": 1701441601208,
     "user": {
      "displayName": "fEDE",
      "userId": "04787154995857483550"
     },
     "user_tz": -60
    },
    "id": "p9sVvg7C4RGP",
    "outputId": "420097e4-5452-4dd9-c239-d9ed2193c930"
   },
   "outputs": [
    {
     "name": "stdout",
     "output_type": "stream",
     "text": [
      "Mounted at /content/gdrive\n"
     ]
    }
   ],
   "source": [
    "#Link colab to the directories of a given google drive account\n",
    "import os\n",
    "from google.colab import drive\n",
    "ROOT_PATH = os.path.join(os.sep, 'content' , 'gdrive')\n",
    "drive.mount(ROOT_PATH)"
   ]
  },
  {
   "cell_type": "code",
   "execution_count": 4,
   "metadata": {
    "colab": {
     "base_uri": "https://localhost:8080/",
     "height": 36
    },
    "executionInfo": {
     "elapsed": 251,
     "status": "ok",
     "timestamp": 1701441627772,
     "user": {
      "displayName": "fEDE",
      "userId": "04787154995857483550"
     },
     "user_tz": -60
    },
    "id": "1hYW8P95VVNh",
    "outputId": "69f15cfd-5fa2-41e2-b24f-f23c80f83ffa"
   },
   "outputs": [
    {
     "data": {
      "application/vnd.google.colaboratory.intrinsic+json": {
       "type": "string"
      },
      "text/plain": [
       "'/content/gdrive'"
      ]
     },
     "execution_count": 4,
     "metadata": {},
     "output_type": "execute_result"
    }
   ],
   "source": [
    "ROOT_PATH"
   ]
  },
  {
   "cell_type": "code",
   "execution_count": 5,
   "metadata": {
    "executionInfo": {
     "elapsed": 6443,
     "status": "ok",
     "timestamp": 1701441638309,
     "user": {
      "displayName": "fEDE",
      "userId": "04787154995857483550"
     },
     "user_tz": -60
    },
    "id": "yz5iaH2c_c9X"
   },
   "outputs": [],
   "source": [
    "#Possible usefull dependencies\n",
    "import med_dataloader as mdl\n",
    "import numpy as np\n",
    "\n",
    "import matplotlib.pyplot as plt\n",
    "import tensorflow as tf\n",
    "from tensorflow import keras as tfk\n",
    "from tensorflow.keras import layers as tfkl\n",
    "from tensorflow.keras import Model\n",
    "import keras\n",
    "\n",
    "from datetime import datetime\n",
    "from dateutil.tz import gettz\n",
    "import SimpleITK as sitk\n",
    "\n",
    "import scipy\n",
    "import cv2\n",
    "\n",
    "import SimpleITK as sitk\n",
    "import imageio\n",
    "\n",
    "from sklearn.utils import shuffle\n",
    "import re"
   ]
  },
  {
   "cell_type": "code",
   "execution_count": 6,
   "metadata": {
    "executionInfo": {
     "elapsed": 303,
     "status": "ok",
     "timestamp": 1701441642151,
     "user": {
      "displayName": "fEDE",
      "userId": "04787154995857483550"
     },
     "user_tz": -60
    },
    "id": "eV1bFXo8d0PH"
   },
   "outputs": [],
   "source": [
    "WD_PATH = os.path.join(ROOT_PATH, 'MyDrive', 'PROJECT_NEURO')\n",
    "\n",
    "DATASET_PATH = os.path.join(WD_PATH, 'Dataset_GS') #Move the folder containig dataset (e.g. Dataset_SP) into WD_PATH\n",
    "\n",
    "MODELS_PATH = os.path.join(WD_PATH, 'Models') #Folder where best trained models will be saved\n",
    "\n",
    "if not os.path.exists(MODELS_PATH): #si può togliere\n",
    "    os.mkdir(MODELS_PATH)\n"
   ]
  },
  {
   "cell_type": "markdown",
   "metadata": {
    "id": "ZEBN84Hjpa9t"
   },
   "source": [
    "Uncached Data"
   ]
  },
  {
   "cell_type": "code",
   "execution_count": 7,
   "metadata": {
    "executionInfo": {
     "elapsed": 5766,
     "status": "ok",
     "timestamp": 1701441652403,
     "user": {
      "displayName": "fEDE",
      "userId": "04787154995857483550"
     },
     "user_tz": -60
    },
    "id": "XBQecyXhpjQM"
   },
   "outputs": [],
   "source": [
    "# lisa di unchached images' file name\n",
    "images = os.listdir('/content/gdrive/MyDrive/PROJECT_NEURO/GS_images')"
   ]
  },
  {
   "cell_type": "code",
   "execution_count": 8,
   "metadata": {
    "colab": {
     "base_uri": "https://localhost:8080/"
    },
    "executionInfo": {
     "elapsed": 399,
     "status": "ok",
     "timestamp": 1701441660477,
     "user": {
      "displayName": "fEDE",
      "userId": "04787154995857483550"
     },
     "user_tz": -60
    },
    "id": "4urQmh8-qaAF",
    "outputId": "b9a548c0-5d3b-430e-825f-5ed297d633a8"
   },
   "outputs": [
    {
     "data": {
      "text/plain": [
       "['s00001', 's00002', 's00004', 's00005']"
      ]
     },
     "execution_count": 8,
     "metadata": {},
     "output_type": "execute_result"
    }
   ],
   "source": [
    "# exctract the subjects\n",
    "subjects = set([i[:6] for i in images])\n",
    "subjects = sorted(list(subjects))\n",
    "subjects"
   ]
  },
  {
   "cell_type": "code",
   "execution_count": 9,
   "metadata": {
    "colab": {
     "base_uri": "https://localhost:8080/"
    },
    "executionInfo": {
     "elapsed": 225,
     "status": "ok",
     "timestamp": 1701441663577,
     "user": {
      "displayName": "fEDE",
      "userId": "04787154995857483550"
     },
     "user_tz": -60
    },
    "id": "U9OPdUkDreU5",
    "outputId": "bfd91998-a21a-46d0-bc99-52238e2dfefa"
   },
   "outputs": [
    {
     "name": "stdout",
     "output_type": "stream",
     "text": [
      "[280, 240, 150, 150]\n"
     ]
    }
   ],
   "source": [
    "# numero di immagini per ciascun paziente\n",
    "# Inizializza un dizionario per tenere traccia del numero di immagini per soggetto\n",
    "images_for_subjects_dict = {}\n",
    "\n",
    "# Conta il numero di immagini per ciascun soggetto\n",
    "for image in images:\n",
    "    subject = image[:6]\n",
    "    images_for_subjects_dict[subject] = images_for_subjects_dict.get(subject, 0) + 1\n",
    "\n",
    "# Se necessario, converte il dizionario in una lista ordinata di conteggi\n",
    "images_for_subjects = [images_for_subjects_dict.get(subject, 0) for subject in subjects]\n",
    "\n",
    "print(images_for_subjects)\n"
   ]
  },
  {
   "cell_type": "markdown",
   "metadata": {
    "id": "nsnvUMyVl9Km"
   },
   "source": [
    "# Load data"
   ]
  },
  {
   "cell_type": "code",
   "execution_count": 10,
   "metadata": {
    "executionInfo": {
     "elapsed": 12789,
     "status": "ok",
     "timestamp": 1701441678623,
     "user": {
      "displayName": "fEDE",
      "userId": "04787154995857483550"
     },
     "user_tz": -60
    },
    "id": "VyuxCujll-op"
   },
   "outputs": [],
   "source": [
    "NUM_CLASSES=7\n",
    "\n",
    "X_train_denoised=np.load('/content/gdrive/MyDrive/PROJECT_NEURO/Processed_X/X_train_denoised.npy')\n",
    "\n",
    "y_train=np.load('/content/gdrive/MyDrive/PROJECT_NEURO/y/y_train.npy')\n"
   ]
  },
  {
   "cell_type": "markdown",
   "metadata": {
    "id": "vXyTQZ3Z-R48"
   },
   "source": [
    "# Data Augmentation"
   ]
  },
  {
   "cell_type": "code",
   "execution_count": 11,
   "metadata": {
    "executionInfo": {
     "elapsed": 701,
     "status": "ok",
     "timestamp": 1701441683606,
     "user": {
      "displayName": "fEDE",
      "userId": "04787154995857483550"
     },
     "user_tz": -60
    },
    "id": "wdbHrCpd-Ulh"
   },
   "outputs": [],
   "source": [
    "from tensorflow.keras.preprocessing.image import ImageDataGenerator\n",
    "\n",
    "# Assuming you have x_train and y_train as your training data\n",
    "# x_train.shape = (500, 256, 256, 1)\n",
    "# y_train.shape = (500, 256, 256, 7)\n",
    "seed=42\n",
    "np.random.seed(seed)\n",
    "# Create an instance of ImageDataGenerator with desired augmentation settings\n",
    "data_gen = ImageDataGenerator(\n",
    "    rotation_range=10, #Degree range for random rotations\n",
    "    width_shift_range=5, #if >=1 lateral shift of the image\n",
    "    height_shift_range=5,  #if >=1 vertical shift of the image\n",
    "    zoom_range=0.1, #Range for random zoom.\n",
    "    horizontal_flip=False,\n",
    "    vertical_flip=False,\n",
    "    fill_mode='nearest'\n",
    ")\n",
    "\n",
    "# Fit the ImageDataGenerator on your data\n",
    "data_gen.fit(tf.expand_dims(X_train_denoised, axis=-1))\n"
   ]
  },
  {
   "cell_type": "markdown",
   "metadata": {
    "id": "q_9cOQgcxgux"
   },
   "source": [
    "## Visualize augmented data"
   ]
  },
  {
   "cell_type": "code",
   "execution_count": null,
   "metadata": {
    "colab": {
     "background_save": true,
     "base_uri": "https://localhost:8080/",
     "height": 290,
     "output_embedded_package_id": "1rZ2K5tJn3Td_A_Ks7HM3zkck-PH7WAbO"
    },
    "id": "Yk2jFMiR7R-J",
    "outputId": "e106cf84-88f2-4c64-9b5b-5b707403c871"
   },
   "outputs": [],
   "source": [
    "# num_da_vedere = 100\n",
    "num_da_vedere = 50\n",
    "num_samples = X_train_denoised.shape[0]\n",
    "\n",
    "sample_indices = np.random.choice(num_samples, num_da_vedere, replace=False)\n",
    "\n",
    "selected_samples_x = X_train_denoised[sample_indices]\n",
    "selected_samples_y = y_train[sample_indices]\n",
    "selected_samples_y=np.argmax(selected_samples_y,axis=-1)\n",
    "\n",
    "c = np.stack([selected_samples_x, selected_samples_y], axis=-1)\n",
    "\n",
    "aug_c = data_gen.flow(c, batch_size=10, shuffle=True)\n",
    "aug_c=aug_c[0]\n",
    "\n",
    "aug_x=aug_c[:,:,:,0]\n",
    "aug_y=aug_c[:,:,:,1]\n",
    "\n",
    "plt.figure(figsize=(15, 5 * num_da_vedere))\n",
    "for i in range(num_da_vedere):\n",
    "  plt.subplot(num_da_vedere,4,4*i+1)\n",
    "  plt.imshow(selected_samples_x[i, :, :], cmap='gray')\n",
    "  plt.title(f'Original - Sample {[i]}')\n",
    "\n",
    "  plt.subplot(num_da_vedere,4,4*i+2)\n",
    "  plt.imshow(aug_x[i, :, :], cmap='gray')\n",
    "  plt.title(f'Augmented - Sample {[i]}')\n",
    "\n",
    "  plt.subplot(num_da_vedere,4,4*i+3)\n",
    "  plt.imshow(selected_samples_y[i, :, :])\n",
    "  plt.title(f'Original mask - Sample {[i]}')\n",
    "\n",
    "  plt.subplot(num_da_vedere,4,4*i+4)\n",
    "  plt.imshow(aug_y[i, :, :])\n",
    "  plt.title(f'Augmented Mask - Sample {[i]}')\n"
   ]
  },
  {
   "cell_type": "markdown",
   "metadata": {
    "id": "oWvFcI2O8y6h"
   },
   "source": [
    "## Apply augmentation to train set"
   ]
  },
  {
   "cell_type": "code",
   "execution_count": null,
   "metadata": {
    "colab": {
     "base_uri": "https://localhost:8080/"
    },
    "executionInfo": {
     "elapsed": 15011,
     "status": "ok",
     "timestamp": 1701355994320,
     "user": {
      "displayName": "fEDE",
      "userId": "04787154995857483550"
     },
     "user_tz": -60
    },
    "id": "xWoUDNtx82ul",
    "outputId": "4ae2cfa7-ee20-485f-d06d-cd578fa85657"
   },
   "outputs": [
    {
     "name": "stderr",
     "output_type": "stream",
     "text": [
      "/usr/local/lib/python3.10/dist-packages/keras/src/preprocessing/image.py:766: UserWarning: NumpyArrayIterator is set to use the data format convention \"channels_last\" (channels on axis 3), i.e. expected either 1, 3, or 4 channels on axis 3. However, it was passed an array with shape (574, 256, 256, 2) (2 channels).\n",
      "  warnings.warn(\n"
     ]
    }
   ],
   "source": [
    "num_augmented_items = 500 #maximum number of augmented samples in order to not saturate ram\n",
    "\n",
    "c = np.stack([X_train_denoised,np.argmax(y_train,axis=-1)], axis=-1)\n",
    "\n",
    "#data_gen.fit(c) #fit the ImageDataGenerator\n",
    "\n",
    "aug_c = data_gen.flow(c, batch_size=num_augmented_items, shuffle=True) #apply augmentation\n",
    "aug_c=aug_c[0]\n",
    "\n",
    "aug_x=aug_c[:,:,:,0]\n",
    "aug_y=aug_c[:,:,:,1]\n",
    "\n",
    "del c\n",
    "del aug_c\n",
    "\n",
    "aug_y = np.stack([(aug_y == level).astype(int) for level in np.linspace(0, 6, 7)], axis=-1) #return to shape (N,256,256,7)\n",
    "\n",
    "\n",
    "#X_train_denoised=np.concatenate([X_train_denoised,aug_x],axis=0)\n",
    "#y_train=np.concatenate([y_train,aug_y],axis=0)\n",
    "(X_train_denoised,y_train)=shuffle(X_train_denoised,y_train,random_state=seed)"
   ]
  },
  {
   "cell_type": "code",
   "execution_count": null,
   "metadata": {
    "colab": {
     "base_uri": "https://localhost:8080/"
    },
    "executionInfo": {
     "elapsed": 763,
     "status": "ok",
     "timestamp": 1701356006850,
     "user": {
      "displayName": "fEDE",
      "userId": "04787154995857483550"
     },
     "user_tz": -60
    },
    "id": "t56XEdT0m95P",
    "outputId": "ed6e1f03-8a3a-4bbf-a67a-0d1865d0137a"
   },
   "outputs": [
    {
     "name": "stdout",
     "output_type": "stream",
     "text": [
      "X_train_denoised_augmented.shape:  (574, 256, 256)\n",
      "y_train_augmented.shape:  (574, 256, 256, 7)\n"
     ]
    }
   ],
   "source": [
    "print('X_train_denoised_augmented.shape: ',X_train_denoised.shape)\n",
    "print('y_train_augmented.shape: ',y_train.shape)"
   ]
  },
  {
   "cell_type": "markdown",
   "metadata": {
    "id": "rtI2H_YCmv6g"
   },
   "source": [
    "# Save data"
   ]
  },
  {
   "cell_type": "code",
   "execution_count": null,
   "metadata": {
    "id": "Tku63jN6mxS6"
   },
   "outputs": [],
   "source": [
    "np.save('/content/gdrive/MyDrive/PROJECT_NEURO/Processed_X/X_test_denoised_augmented.npy', X_train_denoised)\n",
    "np.save('/content/gdrive/MyDrive/PROJECT_NEURO/y/y_train_augmented.npy', y_train)"
   ]
  }
 ],
 "metadata": {
  "colab": {
   "name": "",
   "version": ""
  },
  "kernelspec": {
   "display_name": "Python 3",
   "name": "python3"
  },
  "language_info": {
   "name": "python"
  }
 },
 "nbformat": 4,
 "nbformat_minor": 0
}
